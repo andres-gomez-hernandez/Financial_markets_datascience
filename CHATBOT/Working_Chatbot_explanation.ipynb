{
 "cells": [
  {
   "cell_type": "code",
   "execution_count": 1,
   "id": "c29c1459",
   "metadata": {},
   "outputs": [],
   "source": [
    "import nltk, json, random, pickle\n",
    "from nltk.stem import WordNetLemmatizer\n",
    "lemmatizer = WordNetLemmatizer()\n",
    "import pickle\n",
    "import numpy as np\n",
    "from tensorflow.keras.models import load_model"
   ]
  },
  {
   "cell_type": "markdown",
   "id": "effacf74",
   "metadata": {},
   "source": [
    "# **CHATBOT - USE IT NOW**\n",
    "\n",
    "## **¿How can we use our chatbot?**\n",
    "\n",
    "\n",
    "<font size=\"3\"> We are writting this in Jupyter because it is easier to follow. However you can put this scripts into a .py file as well. For the chatbot to work we need to import the model and the parameters first. Then we define a series of functions that help us answer different questions our user could have. Let's see how it works. <br><br>"
   ]
  },
  {
   "cell_type": "code",
   "execution_count": 2,
   "id": "757bb228",
   "metadata": {},
   "outputs": [],
   "source": [
    "#import the model and the inputs\n",
    "model = load_model('chatbot_model.h5')\n",
    "intents = json.loads(open('intents.json').read())\n",
    "words = pickle.load(open('words.pkl','rb'))\n",
    "classes = pickle.load(open('classes.pkl','rb'))"
   ]
  },
  {
   "cell_type": "code",
   "execution_count": 3,
   "id": "55270be0",
   "metadata": {},
   "outputs": [
    {
     "data": {
      "text/plain": [
       "['hi', ',', 'how', 'are', 'you', 'today', '?']"
      ]
     },
     "execution_count": 3,
     "metadata": {},
     "output_type": "execute_result"
    }
   ],
   "source": [
    "# Inputs pre-processing\n",
    "# First we tokenize a sentence. \n",
    "# Second we put all the words in small letters\n",
    "# Third we lemmatize each word.\n",
    "\n",
    "def clean_up_sentence(sentence):\n",
    "    sentence_words = nltk.word_tokenize(sentence)\n",
    "    sentence_words = [lemmatizer.lemmatize(word.lower()) for word in sentence_words]\n",
    "    return sentence_words\n",
    "\n",
    "#Example\n",
    "clean_up_sentence('Hi, how are you today?')"
   ]
  },
  {
   "cell_type": "code",
   "execution_count": 4,
   "id": "e438fb2c",
   "metadata": {
    "scrolled": true
   },
   "outputs": [
    {
     "name": "stdout",
     "output_type": "stream",
     "text": [
      "found in bag: hi\n",
      "found in bag: ,\n",
      "found in bag: ,\n",
      "found in bag: how\n",
      "found in bag: are\n",
      "found in bag: you\n",
      "found in bag: you\n",
      "found in bag: you\n",
      "found in bag: you\n"
     ]
    },
    {
     "data": {
      "text/plain": [
       "array([1, 0, 1, 1, 1, 0, 0, 0, 0, 0, 0, 0, 0, 0, 0, 1, 0, 0, 0, 0, 0, 1,\n",
       "       1, 0, 0, 0, 0, 0, 0, 1, 0, 0, 0, 0, 1, 0, 0, 0, 0, 0])"
      ]
     },
     "execution_count": 4,
     "metadata": {},
     "output_type": "execute_result"
    }
   ],
   "source": [
    "# Create an array of zeros and ones that show if the tokens in the sentence are contained in the words list\n",
    "\n",
    "def bow(sentence, words, show_details=True):\n",
    "    sentence_words = clean_up_sentence(sentence)\n",
    "    bag = [0]*len(words)\n",
    "    for s in sentence_words:\n",
    "        for i,w in enumerate(words):\n",
    "            if w == s:\n",
    "                bag[i] = 1\n",
    "                if show_details:\n",
    "                    print (\"found in bag: %s\" % w)\n",
    "    return(np.array(bag))\n",
    "\n",
    "#Example\n",
    "bow('Hi, how are you today?', words, show_details=True)"
   ]
  },
  {
   "cell_type": "code",
   "execution_count": 5,
   "id": "a7639639",
   "metadata": {},
   "outputs": [
    {
     "name": "stdout",
     "output_type": "stream",
     "text": [
      "1/1 [==============================] - 0s 76ms/step\n"
     ]
    },
    {
     "data": {
      "text/plain": [
       "[{'intent': 'thanks', 'probability': '0.9566978'}]"
      ]
     },
     "execution_count": 5,
     "metadata": {},
     "output_type": "execute_result"
    }
   ],
   "source": [
    "#Forecast the intent and its probability to give an answer\n",
    "\n",
    "def pred_calculation(sentence, model):\n",
    "    p = bow(sentence, words,show_details=False)\n",
    "    res = model.predict(np.array([p]))[0]\n",
    "    ERROR_THRESHOLD = 0.25\n",
    "    results = [[i,r] for i,r in enumerate(res) if r>ERROR_THRESHOLD]\n",
    "    # sort by strength of probability\n",
    "    results.sort(key=lambda x: x[1], reverse=True)\n",
    "    return_list = []\n",
    "    for r in results:\n",
    "        return_list.append({\"intent\": classes[r[0]], \"probability\": str(r[1])})\n",
    "    return return_list\n",
    "\n",
    "#Example\n",
    "pred_calculation('can you please lend me some money', model)"
   ]
  },
  {
   "cell_type": "code",
   "execution_count": 6,
   "id": "3b644dc6",
   "metadata": {},
   "outputs": [
    {
     "name": "stdout",
     "output_type": "stream",
     "text": [
      "Array\n",
      "[0 0 0 0 1 0 0 0 0 0 0 0 0 0 0 1 0 0 0 0 0 1 0 0 0 0 0 0 0 1 0 0 0 0 0 0 0\n",
      " 0 0 1]\n",
      "-----------------------------------------------------------------------\n",
      "1/1 [==============================] - 0s 22ms/step\n",
      "Probabilities of each class\n",
      "[0.03962048 0.00368172 0.9566978 ]\n",
      "-----------------------------------------------------------------------\n",
      "Classes with probability higher than threshold and its respective probability\n",
      "[[2, 0.9566978]]\n",
      "-----------------------------------------------------------------------\n",
      "Sorted classes\n",
      "[[2, 0.9566978]]\n",
      "-----------------------------------------------------------------------\n",
      "Final result\n",
      "[{'intent': 'thanks', 'probability': '0.9566978'}]\n"
     ]
    }
   ],
   "source": [
    "#Step by step\n",
    "\n",
    "#1. Calculate the array of the interaction\n",
    "sentence ='can you please lend me some money'\n",
    "p = bow(sentence, words,show_details=False)\n",
    "print('Array')\n",
    "print(p)\n",
    "print('-----------------------------------------------------------------------')\n",
    "#2. Calculate the probability that the array belongs to a class (in this example we have 3 classes)\n",
    "res = model.predict(np.array([p]))[0]\n",
    "print('Probabilities of each class')\n",
    "print(res)\n",
    "print('-----------------------------------------------------------------------')\n",
    "#3. Get those classes with a probability higher than the threshold\n",
    "ERROR_THRESHOLD = 0.20  #lower threshold than in the function\n",
    "results = [[i,r] for i,r in enumerate(res) if r>ERROR_THRESHOLD]\n",
    "print('Classes with probability higher than threshold and its respective probability')\n",
    "print(results)\n",
    "print('-----------------------------------------------------------------------')\n",
    "#4. Sort the results\n",
    "results.sort(key=lambda x: x[1], reverse=True)\n",
    "print('Sorted classes')\n",
    "print(results)\n",
    "print('-----------------------------------------------------------------------')\n",
    "#5. Sort the results\n",
    "return_list = []\n",
    "for r in results:\n",
    "    return_list.append({\"intent\": classes[r[0]], \"probability\": str(r[1])})\n",
    "print('Final result')\n",
    "print(return_list)"
   ]
  },
  {
   "cell_type": "code",
   "execution_count": 7,
   "id": "994fccbe",
   "metadata": {
    "scrolled": true
   },
   "outputs": [
    {
     "data": {
      "text/plain": [
       "'Happy to help!'"
      ]
     },
     "execution_count": 7,
     "metadata": {},
     "output_type": "execute_result"
    }
   ],
   "source": [
    "#Get an answer\n",
    "\n",
    "def get_answer(ints, intents_json):\n",
    "    tag = ints[0]['intent']\n",
    "    list_of_intents = intents_json['intents']\n",
    "    for i in list_of_intents:\n",
    "        if(i['tag']== tag):\n",
    "            result = random.choice(i['responses'])\n",
    "            break\n",
    "    return result\n",
    "\n",
    "#Example\n",
    "get_answer(return_list,intents)"
   ]
  },
  {
   "cell_type": "code",
   "execution_count": 8,
   "id": "0c868ceb",
   "metadata": {
    "scrolled": true
   },
   "outputs": [
    {
     "name": "stdout",
     "output_type": "stream",
     "text": [
      "Class\n",
      "thanks\n",
      "-----------------------------------------------------------------------\n",
      "Classes\n",
      "[{'tag': 'greeting', 'patterns': ['Hi there', 'How are you', 'Is anyone there?', 'Hey', 'Hola', 'Hello', 'Good day'], 'responses': ['Hi there, how can I help?'], 'context': ['']}, {'tag': 'goodbye', 'patterns': ['Bye', 'See you later', 'Goodbye', 'Nice chatting to you, bye', 'Till next time'], 'responses': ['Bye! Have a nice day'], 'context': ['']}, {'tag': 'thanks', 'patterns': ['Thanks', 'Thank you', \"That's helpful\", 'Awesome, thanks', 'Thanks for helping me'], 'responses': ['Happy to help!'], 'context': ['']}, {'tag': 'noanswer', 'patterns': [], 'responses': [\"Sorry, can't understand you\"], 'context': ['']}]\n",
      "-----------------------------------------------------------------------\n",
      "Answer\n",
      "Happy to help!\n"
     ]
    }
   ],
   "source": [
    "#Step by step\n",
    "\n",
    "#1. Get the class of the interaction\n",
    "tag =return_list[0]['intent']\n",
    "print('Class')\n",
    "print(tag)\n",
    "print('-----------------------------------------------------------------------')\n",
    "#2. Get all the classes and interactions from the trained model\n",
    "list_of_intents = intents['intents']\n",
    "print('Classes')\n",
    "print(list_of_intents)\n",
    "print('-----------------------------------------------------------------------')\n",
    "#3. Choose an answer\n",
    "for i in list_of_intents:\n",
    "    if(i['tag']== tag):\n",
    "        result = random.choice(i['responses'])\n",
    "        break\n",
    "print('Answer')\n",
    "print(result)"
   ]
  },
  {
   "cell_type": "code",
   "execution_count": 9,
   "id": "a6f46d50",
   "metadata": {},
   "outputs": [
    {
     "name": "stdout",
     "output_type": "stream",
     "text": [
      "1/1 [==============================] - 0s 16ms/step\n"
     ]
    },
    {
     "data": {
      "text/plain": [
       "'Bye! Have a nice day'"
      ]
     },
     "execution_count": 9,
     "metadata": {},
     "output_type": "execute_result"
    }
   ],
   "source": [
    "#Start the chatbot\n",
    "\n",
    "def initialize_chatbot(msg):\n",
    "    ints = pred_calculation(msg, model)\n",
    "    res = get_answer(ints, intents)\n",
    "    return res\n",
    "\n",
    "#Example\n",
    "initialize_chatbot('Bye')"
   ]
  },
  {
   "cell_type": "code",
   "execution_count": 10,
   "id": "a86180c5",
   "metadata": {
    "scrolled": false
   },
   "outputs": [
    {
     "name": "stdout",
     "output_type": "stream",
     "text": [
      "Welcome! To exit please write Esc\"\n",
      "Hello\n",
      "1/1 [==============================] - 0s 47ms/step\n",
      "AI:Hi there, how can I help?\n",
      "See you!\n",
      "1/1 [==============================] - 0s 65ms/step\n",
      "AI:Bye! Have a nice day\n",
      "Esc\n",
      "1/1 [==============================] - 0s 57ms/step\n",
      "AI:Hi there, how can I help?\n"
     ]
    }
   ],
   "source": [
    "user = ''\n",
    "print('Welcome! To exit please write Esc\"')\n",
    "\n",
    "while user != 'Esc':\n",
    "    user = str(input(\"\"))\n",
    "    res = initialize_chatbot(user)\n",
    "    print('AI:' + res)"
   ]
  },
  {
   "cell_type": "markdown",
   "id": "77a52f06",
   "metadata": {},
   "source": [
    "> *What we have to learn to do, we learn by doing*. *Aristotle*\n",
    "\n",
    "<font size=\"3\">\n",
    "Follow me on <a href=\"https://co.linkedin.com/in/andres-gomez-hernandez\" target=\"_blank\">Linkedin</a> for topics about quantitative finance, data science and emerging markets.\n",
    "</font>"
   ]
  }
 ],
 "metadata": {
  "kernelspec": {
   "display_name": "Chatbot virt_env",
   "language": "python",
   "name": "virtual_chatbot"
  },
  "language_info": {
   "codemirror_mode": {
    "name": "ipython",
    "version": 3
   },
   "file_extension": ".py",
   "mimetype": "text/x-python",
   "name": "python",
   "nbconvert_exporter": "python",
   "pygments_lexer": "ipython3",
   "version": "3.9.12"
  }
 },
 "nbformat": 4,
 "nbformat_minor": 5
}
