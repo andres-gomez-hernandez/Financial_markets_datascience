{
 "cells": [
  {
   "cell_type": "code",
   "execution_count": 1,
   "id": "c29c1459",
   "metadata": {},
   "outputs": [],
   "source": [
    "import warnings\n",
    "warnings.filterwarnings('ignore')\n",
    "\n",
    "import nltk\n",
    "# nltk.download('punkt')          #After you have downloaded this please commnent\n",
    "# nltk.download('wordnet')        #After you have downloaded this please commnent\n",
    "# nltk.download('omw-1.4')          #After you have downloaded this please commnent\n",
    "from nltk.stem import WordNetLemmatizer\n",
    "\n",
    "import json\n",
    "import pickle\n",
    "\n",
    "import numpy as np\n",
    "from tensorflow.keras import Sequential\n",
    "from tensorflow.keras.layers import Conv2D, Flatten, Dense, Dropout\n",
    "from tensorflow.keras.optimizers import SGD"
   ]
  },
  {
   "cell_type": "markdown",
   "id": "b6cc987b",
   "metadata": {},
   "source": [
    "# **CHATBOT - TRAIN IT WITH YOUR OWN QUESTIONS**\n",
    "\n",
    "## **¿What do you need to train a chatbot?**\n",
    "\n",
    "\n",
    "<font size=\"3\"> There are a lot of ways to create chatbots but most of the ways require too much data and computing. In this notebook, we’ll show a simplistic chatbot using an intent-based database. You can modify the dataset and try the chatbot on your own problems. The dataset is contained in the intents.json file. \n",
    "\n",
    "In this chatbot, we are not trying to generate the text by understanding the question but we are only trying to understand the intent of the question or trying to predict the tag of the question. Knowing the tag can give us the idea of what kind of question are we talking about, once the tags are identified, a response can be picked up from the sample responses attached with each tag. So, in the true sense, it is a tag predictor problem but if the dataset is formatted properly it can work as a brilliant chatbot, it may not work as a general-purpose chatbot but it can definitely work as a task-based chatbot meaning a chatbot trained to answer questions on one or two topics. Real chatbots which function like Siri or OK Google require terabytes of training data thus creating a chatbot with intent is the best option for people with less computing power.<br><br>\n",
    "    \n",
    "Without further ado let’s dive into our code. We already Loaded the libraries. Let's load the dataset, which is in the format of a JSON file, and see what our data looks like. <br><br>\n",
    "    \n",
    "Credits: https://medium.com/aiguys/an-intent-based-chatbot-7efd08faa47c"
   ]
  },
  {
   "cell_type": "code",
   "execution_count": 2,
   "id": "9b553a45",
   "metadata": {},
   "outputs": [
    {
     "data": {
      "text/plain": [
       "[{'tag': 'greeting',\n",
       "  'patterns': ['Hi there',\n",
       "   'How are you',\n",
       "   'Is anyone there?',\n",
       "   'Hey',\n",
       "   'Hola',\n",
       "   'Hello',\n",
       "   'Good day'],\n",
       "  'responses': ['Hi there, how can I help?'],\n",
       "  'context': ['']},\n",
       " {'tag': 'goodbye',\n",
       "  'patterns': ['Bye',\n",
       "   'See you later',\n",
       "   'Goodbye',\n",
       "   'Nice chatting to you, bye',\n",
       "   'Till next time'],\n",
       "  'responses': ['Bye! Have a nice day'],\n",
       "  'context': ['']},\n",
       " {'tag': 'thanks',\n",
       "  'patterns': ['Thanks',\n",
       "   'Thank you',\n",
       "   \"That's helpful\",\n",
       "   'Awesome, thanks',\n",
       "   'Thanks for helping me'],\n",
       "  'responses': ['Happy to help!'],\n",
       "  'context': ['']},\n",
       " {'tag': 'noanswer',\n",
       "  'patterns': [],\n",
       "  'responses': [\"Sorry, can't understand you\"],\n",
       "  'context': ['']}]"
      ]
     },
     "execution_count": 2,
     "metadata": {},
     "output_type": "execute_result"
    }
   ],
   "source": [
    "data_file = open('intents.json').read()\n",
    "intents = json.loads(data_file)\n",
    "intents['intents']"
   ]
  },
  {
   "cell_type": "markdown",
   "id": "cc6e6d2b",
   "metadata": {},
   "source": [
    "<font size=\"3\"> You can see that the structure of the dataset is built on 4 elements:<br><br>\n",
    "**1) Tag**: The different categories you would like to have. Some might be greeting, thanks, etc.<br><br>\n",
    "**2) Patterns**: Different texts or sentences that belong to a specific tag. <br><br>\n",
    "**3) Responses**: The answer or answers for the questions or sentences in a specific tag. <br><br>\n",
    "**4) Context**: The conversation context. We are leaving it empty in this example. <br><br>\n",
    "    \n",
    "Let's see these four elements for the first tag in our dataset:"
   ]
  },
  {
   "cell_type": "code",
   "execution_count": 3,
   "id": "5cb4523f",
   "metadata": {
    "scrolled": false
   },
   "outputs": [
    {
     "data": {
      "text/plain": [
       "{'tag': 'greeting',\n",
       " 'patterns': ['Hi there',\n",
       "  'How are you',\n",
       "  'Is anyone there?',\n",
       "  'Hey',\n",
       "  'Hola',\n",
       "  'Hello',\n",
       "  'Good day'],\n",
       " 'responses': ['Hi there, how can I help?'],\n",
       " 'context': ['']}"
      ]
     },
     "execution_count": 3,
     "metadata": {},
     "output_type": "execute_result"
    }
   ],
   "source": [
    "intents['intents'][0]"
   ]
  },
  {
   "cell_type": "markdown",
   "id": "75633a07",
   "metadata": {},
   "source": [
    "<font size=\"3\"> Here in the greeting tag we have 7 different questions. They are all written under the patterns element. For all those question there will be a single answer. In this case it will be: Hi there, how can I help?"
   ]
  },
  {
   "cell_type": "code",
   "execution_count": 4,
   "id": "526418d4",
   "metadata": {
    "scrolled": true
   },
   "outputs": [
    {
     "data": {
      "text/plain": [
       "['Hi there',\n",
       " 'How are you',\n",
       " 'Is anyone there?',\n",
       " 'Hey',\n",
       " 'Hola',\n",
       " 'Hello',\n",
       " 'Good day']"
      ]
     },
     "execution_count": 4,
     "metadata": {},
     "output_type": "execute_result"
    }
   ],
   "source": [
    "intents['intents'][0]['patterns']"
   ]
  },
  {
   "cell_type": "code",
   "execution_count": 5,
   "id": "1ca09ee6",
   "metadata": {},
   "outputs": [
    {
     "data": {
      "text/plain": [
       "['Hi there, how can I help?']"
      ]
     },
     "execution_count": 5,
     "metadata": {},
     "output_type": "execute_result"
    }
   ],
   "source": [
    "intents['intents'][0]['responses']"
   ]
  },
  {
   "cell_type": "markdown",
   "id": "d7c1c523",
   "metadata": {},
   "source": [
    "## **Preprocessing**\n",
    "\n",
    "<font size=\"3\"> Now that we are familiar with the data structure, let's dig a little bit on text pre-processing. In this project we will specifically use two tools:<br><br>\n",
    "    \n",
    "**1) Tokenization**<br><br>\n",
    "**2) Lemmatization**<br><br>\n",
    "    \n",
    "### **Word_tokenize**\n",
    "\n",
    "<font size=\"3\"> In Natural Language Processing, tokenization divides a string into a list of tokens. Tokens come in handy when finding valuable patterns and helping to replace sensitive data components with non-sensitive ones. Tokens can be though of as a word in a sentence or a sentence in a paragraph. Let's see an example:   "
   ]
  },
  {
   "cell_type": "code",
   "execution_count": 6,
   "id": "a13ad514",
   "metadata": {
    "scrolled": true
   },
   "outputs": [
    {
     "name": "stdout",
     "output_type": "stream",
     "text": [
      "['Is', 'anyone', 'there', '?']\n"
     ]
    }
   ],
   "source": [
    "example_tokenize = nltk.word_tokenize(\"Is anyone there?\")\n",
    "print(example_tokenize)"
   ]
  },
  {
   "cell_type": "code",
   "execution_count": 7,
   "id": "827d0c54",
   "metadata": {},
   "outputs": [
    {
     "name": "stdout",
     "output_type": "stream",
     "text": [
      "['Is', 'anyone', 'there', '?']\n"
     ]
    }
   ],
   "source": [
    "#Create an empty list and add de different tokens\n",
    "words = []\n",
    "words.extend(example_tokenize)\n",
    "print(words)"
   ]
  },
  {
   "cell_type": "markdown",
   "id": "b25bac3f",
   "metadata": {},
   "source": [
    "## **Tokenize all information**\n",
    "\n",
    "<font size=\"3\"> Let's work on our dataset and tokenize the different texts, sentences or questions that we have.<br><br>"
   ]
  },
  {
   "cell_type": "code",
   "execution_count": 8,
   "id": "55270be0",
   "metadata": {},
   "outputs": [],
   "source": [
    "words = []\n",
    "classes = []\n",
    "documents = []\n",
    "ignore_words = ['?', '!']\n",
    "\n",
    "# intents: Groups of conversations. Recall that each intent has 4 elements: 1) Tag, 2) Patterns, 3) Responses, 4) Context\n",
    "# patterns: Different texts, sentences or questions related to a tag.\n",
    "\n",
    "for intent in intents['intents']:\n",
    "    for pattern in intent['patterns']:\n",
    "\n",
    "        # Tokenize each text, sentence or questions\n",
    "        w = nltk.word_tokenize(pattern)\n",
    "        words.extend(w)\n",
    "        # Append all tokens to a document\n",
    "        documents.append((w, intent['tag']))\n",
    "\n",
    "        # Adding classes to our class list\n",
    "        if intent['tag'] not in classes:\n",
    "            classes.append(intent['tag'])"
   ]
  },
  {
   "cell_type": "code",
   "execution_count": 9,
   "id": "c9e3cba1",
   "metadata": {},
   "outputs": [
    {
     "name": "stdout",
     "output_type": "stream",
     "text": [
      "['Hi', 'there', 'How', 'are', 'you', 'Is', 'anyone', 'there', '?', 'Hey', 'Hola', 'Hello', 'Good', 'day', 'Bye', 'See', 'you', 'later', 'Goodbye', 'Nice', 'chatting', 'to', 'you', ',', 'bye', 'Till', 'next', 'time', 'Thanks', 'Thank', 'you', 'That', \"'s\", 'helpful', 'Awesome', ',', 'thanks', 'Thanks', 'for', 'helping', 'me']\n"
     ]
    }
   ],
   "source": [
    "print(words)"
   ]
  },
  {
   "cell_type": "code",
   "execution_count": 10,
   "id": "655a0819",
   "metadata": {},
   "outputs": [
    {
     "data": {
      "text/plain": [
       "[(['Hi', 'there'], 'greeting'),\n",
       " (['How', 'are', 'you'], 'greeting'),\n",
       " (['Is', 'anyone', 'there', '?'], 'greeting'),\n",
       " (['Hey'], 'greeting'),\n",
       " (['Hola'], 'greeting'),\n",
       " (['Hello'], 'greeting'),\n",
       " (['Good', 'day'], 'greeting'),\n",
       " (['Bye'], 'goodbye'),\n",
       " (['See', 'you', 'later'], 'goodbye'),\n",
       " (['Goodbye'], 'goodbye'),\n",
       " (['Nice', 'chatting', 'to', 'you', ',', 'bye'], 'goodbye'),\n",
       " (['Till', 'next', 'time'], 'goodbye'),\n",
       " (['Thanks'], 'thanks'),\n",
       " (['Thank', 'you'], 'thanks'),\n",
       " (['That', \"'s\", 'helpful'], 'thanks'),\n",
       " (['Awesome', ',', 'thanks'], 'thanks'),\n",
       " (['Thanks', 'for', 'helping', 'me'], 'thanks')]"
      ]
     },
     "execution_count": 10,
     "metadata": {},
     "output_type": "execute_result"
    }
   ],
   "source": [
    "documents"
   ]
  },
  {
   "cell_type": "code",
   "execution_count": 11,
   "id": "2a09603b",
   "metadata": {},
   "outputs": [
    {
     "data": {
      "text/plain": [
       "['greeting', 'goodbye', 'thanks']"
      ]
     },
     "execution_count": 11,
     "metadata": {},
     "output_type": "execute_result"
    }
   ],
   "source": [
    "classes"
   ]
  },
  {
   "cell_type": "markdown",
   "id": "e0b138a6",
   "metadata": {},
   "source": [
    "## **Lemmatization**\n",
    "\n",
    "<font size=\"3\"> Lemmatization is the process of grouping together the different inflected forms of a word so they can be analyzed as a single item. Putting it differently: Lemmatization is the process of converting a word to its base form. Lemmatization is similar to stemming but it brings context to the words. So it links words with similar meanings to one word. The difference between stemming and lemmatization is, lemmatization considers the context and converts the word to its meaningful base form, whereas stemming just removes the last few characters, often leading to incorrect meanings and spelling errors.\n",
    "\n",
    "For example, lemmatization would correctly identify the base form of ‘caring’ to ‘care’, whereas, stemming would cutoff the ‘ing’ part and convert it to car. ‘Caring’ -> Lemmatization -> ‘Care’ ‘Caring’ -> Stemming -> ‘Car’"
   ]
  },
  {
   "cell_type": "code",
   "execution_count": 12,
   "id": "f9ee8883",
   "metadata": {
    "scrolled": true
   },
   "outputs": [
    {
     "name": "stdout",
     "output_type": "stream",
     "text": [
      "rocks : rock\n",
      "corpora : corpus\n",
      "bats : bat\n",
      "feet : foot\n"
     ]
    }
   ],
   "source": [
    "lemmatizer = WordNetLemmatizer()\n",
    "\n",
    "print(\"rocks :\", lemmatizer.lemmatize(\"rocks\"))\n",
    "print(\"corpora :\", lemmatizer.lemmatize(\"corpora\"))\n",
    "print(\"bats :\", lemmatizer.lemmatize(\"Bats\".lower()))\n",
    "print(\"feet :\",lemmatizer.lemmatize(\"feet\"))"
   ]
  },
  {
   "cell_type": "markdown",
   "id": "45dacd2d",
   "metadata": {},
   "source": [
    "<font size=\"3\"> This kind of problems can be corrected if we provide the correct ‘part-of-speech’ tag (POS tag) as the second argument to lemmatize().\n",
    "\n",
    "Sometimes, the same word can have a multiple lemmas based on the meaning / context. <br><br>\n",
    "    \n",
    "Credits: https://www.machinelearningplus.com/nlp/lemmatization-examples-python/"
   ]
  },
  {
   "cell_type": "code",
   "execution_count": 13,
   "id": "b178f782",
   "metadata": {},
   "outputs": [
    {
     "name": "stdout",
     "output_type": "stream",
     "text": [
      "stripes : strip\n",
      "stripes : stripe\n"
     ]
    }
   ],
   "source": [
    "print(\"stripes :\", lemmatizer.lemmatize(\"stripes\",\"v\"))\n",
    "print(\"stripes :\", lemmatizer.lemmatize(\"stripes\",\"n\"))"
   ]
  },
  {
   "cell_type": "code",
   "execution_count": 14,
   "id": "e438fb2c",
   "metadata": {
    "scrolled": true
   },
   "outputs": [
    {
     "name": "stdout",
     "output_type": "stream",
     "text": [
      "['hi', 'there', 'how', 'are', 'you', 'is', 'anyone', 'there', 'hey', 'hola', 'hello', 'good', 'day', 'bye', 'see', 'you', 'later', 'goodbye', 'nice', 'chatting', 'to', 'you', ',', 'bye', 'till', 'next', 'time', 'thanks', 'thank', 'you', 'that', \"'s\", 'helpful', 'awesome', ',', 'thanks', 'thanks', 'for', 'helping', 'me']\n"
     ]
    }
   ],
   "source": [
    "words = [lemmatizer.lemmatize(w.lower()) for w in words if w not in ignore_words]\n",
    "print(words)"
   ]
  },
  {
   "cell_type": "markdown",
   "id": "3ac26baf",
   "metadata": {},
   "source": [
    "## **Pickle**\n",
    "\n",
    "<font size=\"3\"> Pickle is used for serializing and de-serializing Python object structures, also called marshalling or flattening. Serialization refers to the process of converting an object in memory to a byte stream that can be stored on disk or sent over a network. Later on, this character stream can then be retrieved and de-serialized back to a Python object. Pickling is not to be confused with compression! The former is the conversion of an object from one representation (data in Random Access Memory (RAM)) to another (text on disk), while the latter is the process of encoding data with fewer bits, in order to save disk space. Pickling is useful for applications where you need some degree of persistency in your data. Your program's state data can be saved to disk, so you can continue working on it later on. It can also be used to send data over a Transmission Control Protocol (TCP) or socket connection, or to store python objects in a database. Pickle is very useful for when you're working with machine learning algorithms, where you want to save them to be able to make new predictions at a later time, without having to rewrite everything or train the model all over again. <br><br>\n",
    "    \n",
    "<font size=\"3\">To open the file for writing, simply use the open() function. The first argument should be the name of your file. The second argument is 'wb'. The w means that you'll be writing to the file, and b refers to binary mode. This means that the data will be written in the form of byte objects. If you forget the b, a TypeError: must be str, not bytes will be returned. You may sometimes come across a slightly different notation; w+b, but don't worry, it provides the same functionality. Once the file is opened for writing, you can use pickle.dump(), which takes two arguments: the object you want to pickle and the file to which the object has to be saved. In this case, the former will be dogs_dict, while the latter will be outfile."
   ]
  },
  {
   "cell_type": "code",
   "execution_count": 15,
   "id": "54b97b38",
   "metadata": {},
   "outputs": [],
   "source": [
    "pickle.dump(words, open('words.pkl','wb'))\n",
    "pickle.dump(classes, open('classes.pkl','wb'))"
   ]
  },
  {
   "cell_type": "markdown",
   "id": "c7d01910",
   "metadata": {},
   "source": [
    "## **Training data**\n",
    "\n",
    "<font size=\"3\"> Now we will get the information from the intents.json file and put it in an appropiate format to train a deep neural network. What the following code does can be summarized as follows:<br><br>\n",
    "\n",
    "<font size=\"3\">\n",
    "1) Look in the list of all words an see if each word in this list appears in the patterns we have.<br>\n",
    "2) If they appear store this with 1 in an array. Otherwise put 0.<br>\n",
    "3) Continue with this procedure until the end of the words list. You will get an array of 1s and 0s. <br>\n",
    "4) Create a new array that has as many dimensions as classes in the classes list. In this example there are 3 classes. <br>\n",
    "5) If you are in the first class, this array will be [1,0,0]. if you are in the second class it will be [0,1,0] and so on. <br>\n",
    "    "
   ]
  },
  {
   "cell_type": "code",
   "execution_count": 16,
   "id": "a7639639",
   "metadata": {},
   "outputs": [],
   "source": [
    "#Training data preparation\n",
    "\n",
    "training = []\n",
    "output_empty = [0] * len(classes)\n",
    "\n",
    "for doc in documents:\n",
    "    # bag of words\n",
    "    bag = []\n",
    "    # patterns\n",
    "    pattern_words = doc[0]\n",
    "    # lemmatization of each token in patterns\n",
    "    pattern_words = [lemmatizer.lemmatize(word.lower()) for word in pattern_words]\n",
    "    #If a word in the list words is in pattern_words put 1, otherwise put 0\n",
    "    for w in words:\n",
    "        bag.append(1) if w in pattern_words else bag.append(0)\n",
    "\n",
    "    output_row = list(output_empty)\n",
    "    #Put number 1 in the position of the vector that corresponds to the class we are iterating\n",
    "    output_row[classes.index(doc[1])] = 1\n",
    "\n",
    "    training.append([bag, output_row])"
   ]
  },
  {
   "cell_type": "code",
   "execution_count": 17,
   "id": "2437b484",
   "metadata": {},
   "outputs": [],
   "source": [
    "#Define training as an array\n",
    "training = np.array(training)"
   ]
  },
  {
   "cell_type": "code",
   "execution_count": 18,
   "id": "56a50be3",
   "metadata": {
    "scrolled": true
   },
   "outputs": [
    {
     "data": {
      "text/plain": [
       "array([list([1, 1, 0, 0, 0, 0, 0, 1, 0, 0, 0, 0, 0, 0, 0, 0, 0, 0, 0, 0, 0, 0, 0, 0, 0, 0, 0, 0, 0, 0, 0, 0, 0, 0, 0, 0, 0, 0, 0, 0]),\n",
       "       list([1, 0, 0])], dtype=object)"
      ]
     },
     "execution_count": 18,
     "metadata": {},
     "output_type": "execute_result"
    }
   ],
   "source": [
    "#The first element of training contains 2 list:\n",
    "#First list: Array with 0 or 1 if each word on words was in the first pattern or not\n",
    "#Second list: Array with 0 or 1 that represents the class. Here we are in the first class of a total of 3 classes\n",
    "training[0]"
   ]
  },
  {
   "cell_type": "code",
   "execution_count": 19,
   "id": "994fccbe",
   "metadata": {
    "scrolled": true
   },
   "outputs": [],
   "source": [
    "# train_x: patterns\n",
    "# train_y: class\n",
    "train_x = list(training[:,0])\n",
    "train_y = list(training[:,1])"
   ]
  },
  {
   "cell_type": "code",
   "execution_count": 20,
   "id": "b42285b6",
   "metadata": {
    "scrolled": true
   },
   "outputs": [
    {
     "name": "stdout",
     "output_type": "stream",
     "text": [
      "words: ['hi', 'there', 'how', 'are', 'you', 'is', 'anyone', 'there', 'hey', 'hola', 'hello', 'good', 'day', 'bye', 'see', 'you', 'later', 'goodbye', 'nice', 'chatting', 'to', 'you', ',', 'bye', 'till', 'next', 'time', 'thanks', 'thank', 'you', 'that', \"'s\", 'helpful', 'awesome', ',', 'thanks', 'thanks', 'for', 'helping', 'me']\n",
      "--------------------------------------------------------------------------------------------\n",
      "pattern: (['Hi', 'there'], 'greeting')\n",
      "train_x: [1, 1, 0, 0, 0, 0, 0, 1, 0, 0, 0, 0, 0, 0, 0, 0, 0, 0, 0, 0, 0, 0, 0, 0, 0, 0, 0, 0, 0, 0, 0, 0, 0, 0, 0, 0, 0, 0, 0, 0]\n",
      "train_y: [1, 0, 0]\n"
     ]
    }
   ],
   "source": [
    "print('words: '+str(words))\n",
    "print('--------------------------------------------------------------------------------------------')\n",
    "print('pattern: '+str(documents[0]))\n",
    "print('train_x: '+str(train_x[0]))\n",
    "print('train_y: '+str(train_y[0]))\n",
    "\n",
    "#In this example the list word contains 3 words that are in the first pattern: \"hi\", \"there\", \"there\"\n",
    "#Therefore the arry has three \"1s\" and the rest are \"0s\"\n",
    "#Since that corresponds to the first tag, train_y has 1 in the first element and the others are 0"
   ]
  },
  {
   "cell_type": "markdown",
   "id": "ac2ebf53",
   "metadata": {},
   "source": [
    "## **Deep neural network**\n",
    "\n",
    "<font size=\"3\"> Now we will build a very simple architechture. We will have a DNN which contains:<br><br>\n",
    "\n",
    "a) A hidden layer with 128 nodes. The input shape in this case is 40, which corresponds to the number of elements in the first array from train_x. Activation functions is relu.<br>\n",
    "b) A hidden layer with 64 nodes.<br>\n",
    "c) An output layer with a shape equal to the shape of train_y. In this case 3 elements.It will predict to which class the words belong. \n",
    "    \n",
    "You can look at a simple examplanation with an example in the following link:\n",
    "    \n",
    "https://machinelearningmastery.com/tutorial-first-neural-network-python-keras/"
   ]
  },
  {
   "cell_type": "code",
   "execution_count": 21,
   "id": "a6f46d50",
   "metadata": {},
   "outputs": [
    {
     "name": "stdout",
     "output_type": "stream",
     "text": [
      "Model: \"sequential\"\n",
      "_________________________________________________________________\n",
      " Layer (type)                Output Shape              Param #   \n",
      "=================================================================\n",
      " dense (Dense)               (None, 128)               5248      \n",
      "                                                                 \n",
      " dropout (Dropout)           (None, 128)               0         \n",
      "                                                                 \n",
      " dense_1 (Dense)             (None, 64)                8256      \n",
      "                                                                 \n",
      " dropout_1 (Dropout)         (None, 64)                0         \n",
      "                                                                 \n",
      " dense_2 (Dense)             (None, 3)                 195       \n",
      "                                                                 \n",
      "=================================================================\n",
      "Total params: 13,699\n",
      "Trainable params: 13,699\n",
      "Non-trainable params: 0\n",
      "_________________________________________________________________\n"
     ]
    }
   ],
   "source": [
    "# Deep Neural Network\n",
    "model = Sequential()\n",
    "model.add(Dense(128, input_shape=(len(train_x[0]),), activation='relu'))\n",
    "model.add(Dropout(0.5))\n",
    "model.add(Dense(64, activation='relu'))\n",
    "model.add(Dropout(0.5))\n",
    "model.add(Dense(len(train_y[0]), activation='softmax'))\n",
    "\n",
    "sgd = SGD(learning_rate=0.01, decay=1e-6, momentum=0.9, nesterov=True)\n",
    "model.compile(loss='categorical_crossentropy', optimizer=sgd, metrics=['accuracy'])\n",
    "model.summary()"
   ]
  },
  {
   "cell_type": "code",
   "execution_count": 22,
   "id": "18f52857",
   "metadata": {},
   "outputs": [
    {
     "name": "stdout",
     "output_type": "stream",
     "text": [
      "Epoch 1/300\n",
      "4/4 [==============================] - 1s 6ms/step - loss: 1.1045 - accuracy: 0.2941\n",
      "Epoch 2/300\n",
      "4/4 [==============================] - 0s 5ms/step - loss: 1.0668 - accuracy: 0.5294\n",
      "Epoch 3/300\n",
      "4/4 [==============================] - 0s 6ms/step - loss: 1.0288 - accuracy: 0.4706\n",
      "Epoch 4/300\n",
      "4/4 [==============================] - 0s 4ms/step - loss: 0.9568 - accuracy: 0.6471\n",
      "Epoch 5/300\n",
      "4/4 [==============================] - 0s 5ms/step - loss: 0.7777 - accuracy: 0.6471\n",
      "Epoch 6/300\n",
      "4/4 [==============================] - 0s 4ms/step - loss: 0.8435 - accuracy: 0.7059\n",
      "Epoch 7/300\n",
      "4/4 [==============================] - 0s 3ms/step - loss: 0.7508 - accuracy: 0.7647\n",
      "Epoch 8/300\n",
      "4/4 [==============================] - 0s 5ms/step - loss: 0.8215 - accuracy: 0.7059\n",
      "Epoch 9/300\n",
      "4/4 [==============================] - 0s 5ms/step - loss: 0.8097 - accuracy: 0.5882\n",
      "Epoch 10/300\n",
      "4/4 [==============================] - 0s 7ms/step - loss: 0.7574 - accuracy: 0.7059\n",
      "Epoch 11/300\n",
      "4/4 [==============================] - 0s 5ms/step - loss: 0.8330 - accuracy: 0.5294\n",
      "Epoch 12/300\n",
      "4/4 [==============================] - 0s 4ms/step - loss: 0.6688 - accuracy: 0.8824\n",
      "Epoch 13/300\n",
      "4/4 [==============================] - 0s 5ms/step - loss: 0.6207 - accuracy: 0.7647\n",
      "Epoch 14/300\n",
      "4/4 [==============================] - 0s 3ms/step - loss: 0.5543 - accuracy: 0.7059\n",
      "Epoch 15/300\n",
      "4/4 [==============================] - 0s 4ms/step - loss: 0.5140 - accuracy: 0.8235\n",
      "Epoch 16/300\n",
      "4/4 [==============================] - 0s 4ms/step - loss: 0.5302 - accuracy: 0.7647\n",
      "Epoch 17/300\n",
      "4/4 [==============================] - 0s 7ms/step - loss: 0.5496 - accuracy: 0.8824\n",
      "Epoch 18/300\n",
      "4/4 [==============================] - 0s 4ms/step - loss: 0.4827 - accuracy: 0.7647\n",
      "Epoch 19/300\n",
      "4/4 [==============================] - 0s 5ms/step - loss: 0.4334 - accuracy: 0.9412\n",
      "Epoch 20/300\n",
      "4/4 [==============================] - 0s 5ms/step - loss: 0.2959 - accuracy: 0.9412\n",
      "Epoch 21/300\n",
      "4/4 [==============================] - 0s 5ms/step - loss: 0.3566 - accuracy: 0.8824\n",
      "Epoch 22/300\n",
      "4/4 [==============================] - 0s 5ms/step - loss: 0.4116 - accuracy: 0.8824\n",
      "Epoch 23/300\n",
      "4/4 [==============================] - 0s 6ms/step - loss: 0.3870 - accuracy: 0.8824\n",
      "Epoch 24/300\n",
      "4/4 [==============================] - 0s 5ms/step - loss: 0.3222 - accuracy: 0.9412\n",
      "Epoch 25/300\n",
      "4/4 [==============================] - 0s 4ms/step - loss: 0.2876 - accuracy: 0.9412\n",
      "Epoch 26/300\n",
      "4/4 [==============================] - 0s 3ms/step - loss: 0.3083 - accuracy: 0.8824\n",
      "Epoch 27/300\n",
      "4/4 [==============================] - 0s 3ms/step - loss: 0.1747 - accuracy: 0.9412\n",
      "Epoch 28/300\n",
      "4/4 [==============================] - 0s 4ms/step - loss: 0.1146 - accuracy: 1.0000\n",
      "Epoch 29/300\n",
      "4/4 [==============================] - 0s 4ms/step - loss: 0.2491 - accuracy: 0.8824\n",
      "Epoch 30/300\n",
      "4/4 [==============================] - 0s 6ms/step - loss: 0.1445 - accuracy: 1.0000\n",
      "Epoch 31/300\n",
      "4/4 [==============================] - 0s 4ms/step - loss: 0.1286 - accuracy: 0.9412\n",
      "Epoch 32/300\n",
      "4/4 [==============================] - 0s 4ms/step - loss: 0.1122 - accuracy: 1.0000\n",
      "Epoch 33/300\n",
      "4/4 [==============================] - 0s 2ms/step - loss: 0.2512 - accuracy: 0.9412\n",
      "Epoch 34/300\n",
      "4/4 [==============================] - 0s 5ms/step - loss: 0.1657 - accuracy: 1.0000\n",
      "Epoch 35/300\n",
      "4/4 [==============================] - 0s 5ms/step - loss: 0.1213 - accuracy: 1.0000\n",
      "Epoch 36/300\n",
      "4/4 [==============================] - 0s 4ms/step - loss: 0.1105 - accuracy: 0.9412\n",
      "Epoch 37/300\n",
      "4/4 [==============================] - 0s 4ms/step - loss: 0.1559 - accuracy: 1.0000\n",
      "Epoch 38/300\n",
      "4/4 [==============================] - 0s 4ms/step - loss: 0.0956 - accuracy: 1.0000\n",
      "Epoch 39/300\n",
      "4/4 [==============================] - 0s 5ms/step - loss: 0.1179 - accuracy: 0.9412\n",
      "Epoch 40/300\n",
      "4/4 [==============================] - 0s 4ms/step - loss: 0.1165 - accuracy: 1.0000\n",
      "Epoch 41/300\n",
      "4/4 [==============================] - 0s 5ms/step - loss: 0.0573 - accuracy: 1.0000\n",
      "Epoch 42/300\n",
      "4/4 [==============================] - 0s 5ms/step - loss: 0.1215 - accuracy: 1.0000\n",
      "Epoch 43/300\n",
      "4/4 [==============================] - 0s 4ms/step - loss: 0.0283 - accuracy: 1.0000\n",
      "Epoch 44/300\n",
      "4/4 [==============================] - 0s 3ms/step - loss: 0.0534 - accuracy: 1.0000\n",
      "Epoch 45/300\n",
      "4/4 [==============================] - 0s 2ms/step - loss: 0.0424 - accuracy: 1.0000\n",
      "Epoch 46/300\n",
      "4/4 [==============================] - 0s 6ms/step - loss: 0.1299 - accuracy: 1.0000\n",
      "Epoch 47/300\n",
      "4/4 [==============================] - 0s 2ms/step - loss: 0.0335 - accuracy: 1.0000\n",
      "Epoch 48/300\n",
      "4/4 [==============================] - 0s 5ms/step - loss: 0.0308 - accuracy: 1.0000\n",
      "Epoch 49/300\n",
      "4/4 [==============================] - 0s 5ms/step - loss: 0.0639 - accuracy: 1.0000\n",
      "Epoch 50/300\n",
      "4/4 [==============================] - 0s 5ms/step - loss: 0.0396 - accuracy: 1.0000\n",
      "Epoch 51/300\n",
      "4/4 [==============================] - 0s 4ms/step - loss: 0.0625 - accuracy: 1.0000\n",
      "Epoch 52/300\n",
      "4/4 [==============================] - 0s 4ms/step - loss: 0.0620 - accuracy: 1.0000\n",
      "Epoch 53/300\n",
      "4/4 [==============================] - 0s 3ms/step - loss: 0.0513 - accuracy: 1.0000\n",
      "Epoch 54/300\n",
      "4/4 [==============================] - 0s 3ms/step - loss: 0.0368 - accuracy: 1.0000\n",
      "Epoch 55/300\n",
      "4/4 [==============================] - 0s 5ms/step - loss: 0.0145 - accuracy: 1.0000\n",
      "Epoch 56/300\n",
      "4/4 [==============================] - 0s 2ms/step - loss: 0.0220 - accuracy: 1.0000\n",
      "Epoch 57/300\n",
      "4/4 [==============================] - 0s 4ms/step - loss: 0.0275 - accuracy: 1.0000\n",
      "Epoch 58/300\n",
      "4/4 [==============================] - 0s 4ms/step - loss: 0.0681 - accuracy: 0.9412\n",
      "Epoch 59/300\n",
      "4/4 [==============================] - 0s 4ms/step - loss: 0.0166 - accuracy: 1.0000\n",
      "Epoch 60/300\n",
      "4/4 [==============================] - 0s 6ms/step - loss: 0.0277 - accuracy: 1.0000\n",
      "Epoch 61/300\n",
      "4/4 [==============================] - 0s 3ms/step - loss: 0.0356 - accuracy: 1.0000\n",
      "Epoch 62/300\n",
      "4/4 [==============================] - 0s 5ms/step - loss: 0.0407 - accuracy: 1.0000\n",
      "Epoch 63/300\n",
      "4/4 [==============================] - 0s 6ms/step - loss: 0.0397 - accuracy: 1.0000\n",
      "Epoch 64/300\n",
      "4/4 [==============================] - 0s 2ms/step - loss: 0.0749 - accuracy: 1.0000\n",
      "Epoch 65/300\n",
      "4/4 [==============================] - 0s 4ms/step - loss: 0.0885 - accuracy: 1.0000\n",
      "Epoch 66/300\n",
      "4/4 [==============================] - 0s 3ms/step - loss: 0.0689 - accuracy: 1.0000\n",
      "Epoch 67/300\n",
      "4/4 [==============================] - 0s 7ms/step - loss: 0.0590 - accuracy: 1.0000\n",
      "Epoch 68/300\n",
      "4/4 [==============================] - 0s 4ms/step - loss: 0.0252 - accuracy: 1.0000\n",
      "Epoch 69/300\n",
      "4/4 [==============================] - 0s 3ms/step - loss: 0.0204 - accuracy: 1.0000\n",
      "Epoch 70/300\n",
      "4/4 [==============================] - 0s 6ms/step - loss: 0.0184 - accuracy: 1.0000\n",
      "Epoch 71/300\n",
      "4/4 [==============================] - 0s 4ms/step - loss: 0.0258 - accuracy: 1.0000\n",
      "Epoch 72/300\n",
      "4/4 [==============================] - 0s 4ms/step - loss: 0.1778 - accuracy: 0.8824\n",
      "Epoch 73/300\n",
      "4/4 [==============================] - 0s 4ms/step - loss: 0.0252 - accuracy: 1.0000\n",
      "Epoch 74/300\n",
      "4/4 [==============================] - 0s 3ms/step - loss: 0.0379 - accuracy: 1.0000\n",
      "Epoch 75/300\n",
      "4/4 [==============================] - 0s 3ms/step - loss: 0.0173 - accuracy: 1.0000\n",
      "Epoch 76/300\n",
      "4/4 [==============================] - 0s 5ms/step - loss: 0.0271 - accuracy: 1.0000\n",
      "Epoch 77/300\n",
      "4/4 [==============================] - 0s 3ms/step - loss: 0.0872 - accuracy: 1.0000\n",
      "Epoch 78/300\n",
      "4/4 [==============================] - 0s 4ms/step - loss: 0.0052 - accuracy: 1.0000\n",
      "Epoch 79/300\n",
      "4/4 [==============================] - 0s 3ms/step - loss: 0.0100 - accuracy: 1.0000\n",
      "Epoch 80/300\n",
      "4/4 [==============================] - 0s 3ms/step - loss: 0.0345 - accuracy: 1.0000\n",
      "Epoch 81/300\n",
      "4/4 [==============================] - 0s 4ms/step - loss: 0.0178 - accuracy: 1.0000\n",
      "Epoch 82/300\n",
      "4/4 [==============================] - 0s 4ms/step - loss: 0.0279 - accuracy: 1.0000\n",
      "Epoch 83/300\n",
      "4/4 [==============================] - 0s 4ms/step - loss: 0.0099 - accuracy: 1.0000\n",
      "Epoch 84/300\n"
     ]
    },
    {
     "name": "stdout",
     "output_type": "stream",
     "text": [
      "4/4 [==============================] - 0s 4ms/step - loss: 0.0543 - accuracy: 1.0000\n",
      "Epoch 85/300\n",
      "4/4 [==============================] - 0s 4ms/step - loss: 0.0252 - accuracy: 1.0000\n",
      "Epoch 86/300\n",
      "4/4 [==============================] - 0s 3ms/step - loss: 0.0080 - accuracy: 1.0000\n",
      "Epoch 87/300\n",
      "4/4 [==============================] - 0s 5ms/step - loss: 0.0083 - accuracy: 1.0000\n",
      "Epoch 88/300\n",
      "4/4 [==============================] - 0s 7ms/step - loss: 0.0129 - accuracy: 1.0000\n",
      "Epoch 89/300\n",
      "4/4 [==============================] - 0s 4ms/step - loss: 0.0277 - accuracy: 1.0000\n",
      "Epoch 90/300\n",
      "4/4 [==============================] - 0s 2ms/step - loss: 0.0189 - accuracy: 1.0000\n",
      "Epoch 91/300\n",
      "4/4 [==============================] - 0s 4ms/step - loss: 0.0122 - accuracy: 1.0000\n",
      "Epoch 92/300\n",
      "4/4 [==============================] - 0s 5ms/step - loss: 0.0212 - accuracy: 1.0000\n",
      "Epoch 93/300\n",
      "4/4 [==============================] - 0s 4ms/step - loss: 0.0019 - accuracy: 1.0000\n",
      "Epoch 94/300\n",
      "4/4 [==============================] - 0s 4ms/step - loss: 0.0526 - accuracy: 1.0000\n",
      "Epoch 95/300\n",
      "4/4 [==============================] - 0s 4ms/step - loss: 0.0031 - accuracy: 1.0000\n",
      "Epoch 96/300\n",
      "4/4 [==============================] - 0s 4ms/step - loss: 0.0335 - accuracy: 1.0000\n",
      "Epoch 97/300\n",
      "4/4 [==============================] - 0s 4ms/step - loss: 0.0135 - accuracy: 1.0000\n",
      "Epoch 98/300\n",
      "4/4 [==============================] - 0s 3ms/step - loss: 0.0068 - accuracy: 1.0000\n",
      "Epoch 99/300\n",
      "4/4 [==============================] - 0s 3ms/step - loss: 0.0277 - accuracy: 1.0000\n",
      "Epoch 100/300\n",
      "4/4 [==============================] - 0s 4ms/step - loss: 0.0611 - accuracy: 1.0000\n",
      "Epoch 101/300\n",
      "4/4 [==============================] - 0s 3ms/step - loss: 0.0214 - accuracy: 1.0000\n",
      "Epoch 102/300\n",
      "4/4 [==============================] - 0s 2ms/step - loss: 0.0080 - accuracy: 1.0000\n",
      "Epoch 103/300\n",
      "4/4 [==============================] - 0s 4ms/step - loss: 0.0229 - accuracy: 1.0000\n",
      "Epoch 104/300\n",
      "4/4 [==============================] - 0s 4ms/step - loss: 0.0225 - accuracy: 1.0000\n",
      "Epoch 105/300\n",
      "4/4 [==============================] - 0s 5ms/step - loss: 0.0135 - accuracy: 1.0000\n",
      "Epoch 106/300\n",
      "4/4 [==============================] - 0s 5ms/step - loss: 0.0124 - accuracy: 1.0000\n",
      "Epoch 107/300\n",
      "4/4 [==============================] - 0s 4ms/step - loss: 0.0489 - accuracy: 1.0000\n",
      "Epoch 108/300\n",
      "4/4 [==============================] - 0s 5ms/step - loss: 0.0121 - accuracy: 1.0000\n",
      "Epoch 109/300\n",
      "4/4 [==============================] - 0s 5ms/step - loss: 0.0056 - accuracy: 1.0000\n",
      "Epoch 110/300\n",
      "4/4 [==============================] - 0s 3ms/step - loss: 0.0280 - accuracy: 1.0000\n",
      "Epoch 111/300\n",
      "4/4 [==============================] - 0s 4ms/step - loss: 0.0068 - accuracy: 1.0000\n",
      "Epoch 112/300\n",
      "4/4 [==============================] - 0s 4ms/step - loss: 0.0062 - accuracy: 1.0000\n",
      "Epoch 113/300\n",
      "4/4 [==============================] - 0s 2ms/step - loss: 0.0058 - accuracy: 1.0000\n",
      "Epoch 114/300\n",
      "4/4 [==============================] - 0s 2ms/step - loss: 0.0122 - accuracy: 1.0000\n",
      "Epoch 115/300\n",
      "4/4 [==============================] - 0s 2ms/step - loss: 0.0059 - accuracy: 1.0000\n",
      "Epoch 116/300\n",
      "4/4 [==============================] - 0s 2ms/step - loss: 0.0236 - accuracy: 1.0000\n",
      "Epoch 117/300\n",
      "4/4 [==============================] - 0s 4ms/step - loss: 0.0039 - accuracy: 1.0000\n",
      "Epoch 118/300\n",
      "4/4 [==============================] - 0s 2ms/step - loss: 0.0064 - accuracy: 1.0000\n",
      "Epoch 119/300\n",
      "4/4 [==============================] - 0s 3ms/step - loss: 0.0050 - accuracy: 1.0000\n",
      "Epoch 120/300\n",
      "4/4 [==============================] - 0s 3ms/step - loss: 0.0457 - accuracy: 1.0000\n",
      "Epoch 121/300\n",
      "4/4 [==============================] - 0s 4ms/step - loss: 0.0100 - accuracy: 1.0000\n",
      "Epoch 122/300\n",
      "4/4 [==============================] - 0s 2ms/step - loss: 0.0147 - accuracy: 1.0000\n",
      "Epoch 123/300\n",
      "4/4 [==============================] - 0s 5ms/step - loss: 0.0172 - accuracy: 1.0000\n",
      "Epoch 124/300\n",
      "4/4 [==============================] - 0s 2ms/step - loss: 0.0100 - accuracy: 1.0000\n",
      "Epoch 125/300\n",
      "4/4 [==============================] - 0s 2ms/step - loss: 0.0376 - accuracy: 1.0000\n",
      "Epoch 126/300\n",
      "4/4 [==============================] - 0s 6ms/step - loss: 0.0039 - accuracy: 1.0000\n",
      "Epoch 127/300\n",
      "4/4 [==============================] - 0s 5ms/step - loss: 0.0535 - accuracy: 1.0000\n",
      "Epoch 128/300\n",
      "4/4 [==============================] - 0s 6ms/step - loss: 0.0032 - accuracy: 1.0000\n",
      "Epoch 129/300\n",
      "4/4 [==============================] - 0s 4ms/step - loss: 0.0235 - accuracy: 1.0000\n",
      "Epoch 130/300\n",
      "4/4 [==============================] - 0s 4ms/step - loss: 0.0037 - accuracy: 1.0000\n",
      "Epoch 131/300\n",
      "4/4 [==============================] - 0s 4ms/step - loss: 0.0028 - accuracy: 1.0000\n",
      "Epoch 132/300\n",
      "4/4 [==============================] - 0s 5ms/step - loss: 0.0329 - accuracy: 1.0000\n",
      "Epoch 133/300\n",
      "4/4 [==============================] - 0s 2ms/step - loss: 0.0468 - accuracy: 0.9412\n",
      "Epoch 134/300\n",
      "4/4 [==============================] - 0s 3ms/step - loss: 0.0048 - accuracy: 1.0000\n",
      "Epoch 135/300\n",
      "4/4 [==============================] - 0s 2ms/step - loss: 0.0055 - accuracy: 1.0000\n",
      "Epoch 136/300\n",
      "4/4 [==============================] - 0s 4ms/step - loss: 0.0465 - accuracy: 1.0000\n",
      "Epoch 137/300\n",
      "4/4 [==============================] - 0s 4ms/step - loss: 0.0116 - accuracy: 1.0000\n",
      "Epoch 138/300\n",
      "4/4 [==============================] - 0s 4ms/step - loss: 0.0123 - accuracy: 1.0000\n",
      "Epoch 139/300\n",
      "4/4 [==============================] - 0s 4ms/step - loss: 0.0075 - accuracy: 1.0000\n",
      "Epoch 140/300\n",
      "4/4 [==============================] - 0s 4ms/step - loss: 0.0178 - accuracy: 1.0000\n",
      "Epoch 141/300\n",
      "4/4 [==============================] - 0s 2ms/step - loss: 0.0078 - accuracy: 1.0000\n",
      "Epoch 142/300\n",
      "4/4 [==============================] - 0s 4ms/step - loss: 0.0023 - accuracy: 1.0000\n",
      "Epoch 143/300\n",
      "4/4 [==============================] - 0s 3ms/step - loss: 0.0132 - accuracy: 1.0000\n",
      "Epoch 144/300\n",
      "4/4 [==============================] - 0s 2ms/step - loss: 0.0148 - accuracy: 1.0000\n",
      "Epoch 145/300\n",
      "4/4 [==============================] - 0s 4ms/step - loss: 0.0050 - accuracy: 1.0000\n",
      "Epoch 146/300\n",
      "4/4 [==============================] - 0s 5ms/step - loss: 0.0060 - accuracy: 1.0000\n",
      "Epoch 147/300\n",
      "4/4 [==============================] - 0s 8ms/step - loss: 0.0037 - accuracy: 1.0000\n",
      "Epoch 148/300\n",
      "4/4 [==============================] - 0s 4ms/step - loss: 0.0040 - accuracy: 1.0000\n",
      "Epoch 149/300\n",
      "4/4 [==============================] - 0s 4ms/step - loss: 0.0019 - accuracy: 1.0000\n",
      "Epoch 150/300\n",
      "4/4 [==============================] - 0s 3ms/step - loss: 0.0075 - accuracy: 1.0000\n",
      "Epoch 151/300\n",
      "4/4 [==============================] - 0s 4ms/step - loss: 0.0285 - accuracy: 1.0000\n",
      "Epoch 152/300\n",
      "4/4 [==============================] - 0s 2ms/step - loss: 0.0267 - accuracy: 1.0000\n",
      "Epoch 153/300\n",
      "4/4 [==============================] - 0s 5ms/step - loss: 0.0025 - accuracy: 1.0000\n",
      "Epoch 154/300\n",
      "4/4 [==============================] - 0s 5ms/step - loss: 0.0141 - accuracy: 1.0000\n",
      "Epoch 155/300\n",
      "4/4 [==============================] - 0s 5ms/step - loss: 0.0283 - accuracy: 1.0000\n",
      "Epoch 156/300\n",
      "4/4 [==============================] - 0s 2ms/step - loss: 9.5248e-04 - accuracy: 1.0000\n",
      "Epoch 157/300\n",
      "4/4 [==============================] - 0s 4ms/step - loss: 0.0018 - accuracy: 1.0000\n",
      "Epoch 158/300\n",
      "4/4 [==============================] - 0s 3ms/step - loss: 0.0216 - accuracy: 1.0000\n",
      "Epoch 159/300\n",
      "4/4 [==============================] - 0s 4ms/step - loss: 0.0176 - accuracy: 1.0000\n",
      "Epoch 160/300\n",
      "4/4 [==============================] - 0s 3ms/step - loss: 0.0163 - accuracy: 1.0000\n",
      "Epoch 161/300\n",
      "4/4 [==============================] - 0s 4ms/step - loss: 0.0034 - accuracy: 1.0000\n",
      "Epoch 162/300\n",
      "4/4 [==============================] - 0s 5ms/step - loss: 0.0042 - accuracy: 1.0000\n",
      "Epoch 163/300\n",
      "4/4 [==============================] - 0s 3ms/step - loss: 0.0028 - accuracy: 1.0000\n",
      "Epoch 164/300\n",
      "4/4 [==============================] - 0s 3ms/step - loss: 0.0835 - accuracy: 0.9412\n",
      "Epoch 165/300\n",
      "4/4 [==============================] - 0s 4ms/step - loss: 0.0190 - accuracy: 1.0000\n",
      "Epoch 166/300\n",
      "4/4 [==============================] - 0s 5ms/step - loss: 0.0075 - accuracy: 1.0000\n",
      "Epoch 167/300\n"
     ]
    },
    {
     "name": "stdout",
     "output_type": "stream",
     "text": [
      "4/4 [==============================] - 0s 3ms/step - loss: 0.0023 - accuracy: 1.0000\n",
      "Epoch 168/300\n",
      "4/4 [==============================] - 0s 5ms/step - loss: 7.1024e-04 - accuracy: 1.0000\n",
      "Epoch 169/300\n",
      "4/4 [==============================] - 0s 4ms/step - loss: 0.0043 - accuracy: 1.0000\n",
      "Epoch 170/300\n",
      "4/4 [==============================] - 0s 4ms/step - loss: 0.0042 - accuracy: 1.0000\n",
      "Epoch 171/300\n",
      "4/4 [==============================] - 0s 4ms/step - loss: 0.0326 - accuracy: 1.0000\n",
      "Epoch 172/300\n",
      "4/4 [==============================] - 0s 3ms/step - loss: 0.0194 - accuracy: 1.0000\n",
      "Epoch 173/300\n",
      "4/4 [==============================] - 0s 4ms/step - loss: 0.0110 - accuracy: 1.0000\n",
      "Epoch 174/300\n",
      "4/4 [==============================] - 0s 5ms/step - loss: 0.0045 - accuracy: 1.0000\n",
      "Epoch 175/300\n",
      "4/4 [==============================] - 0s 2ms/step - loss: 0.0023 - accuracy: 1.0000\n",
      "Epoch 176/300\n",
      "4/4 [==============================] - 0s 3ms/step - loss: 0.0300 - accuracy: 1.0000\n",
      "Epoch 177/300\n",
      "4/4 [==============================] - 0s 4ms/step - loss: 0.0119 - accuracy: 1.0000\n",
      "Epoch 178/300\n",
      "4/4 [==============================] - 0s 4ms/step - loss: 0.0084 - accuracy: 1.0000\n",
      "Epoch 179/300\n",
      "4/4 [==============================] - 0s 6ms/step - loss: 0.0214 - accuracy: 1.0000\n",
      "Epoch 180/300\n",
      "4/4 [==============================] - 0s 4ms/step - loss: 0.0251 - accuracy: 1.0000\n",
      "Epoch 181/300\n",
      "4/4 [==============================] - 0s 3ms/step - loss: 0.0194 - accuracy: 1.0000\n",
      "Epoch 182/300\n",
      "4/4 [==============================] - 0s 3ms/step - loss: 0.0011 - accuracy: 1.0000\n",
      "Epoch 183/300\n",
      "4/4 [==============================] - 0s 4ms/step - loss: 0.0012 - accuracy: 1.0000\n",
      "Epoch 184/300\n",
      "4/4 [==============================] - 0s 5ms/step - loss: 0.0335 - accuracy: 1.0000\n",
      "Epoch 185/300\n",
      "4/4 [==============================] - 0s 4ms/step - loss: 0.0011 - accuracy: 1.0000\n",
      "Epoch 186/300\n",
      "4/4 [==============================] - 0s 3ms/step - loss: 0.0013 - accuracy: 1.0000\n",
      "Epoch 187/300\n",
      "4/4 [==============================] - 0s 4ms/step - loss: 0.0391 - accuracy: 1.0000\n",
      "Epoch 188/300\n",
      "4/4 [==============================] - 0s 4ms/step - loss: 0.0011 - accuracy: 1.0000\n",
      "Epoch 189/300\n",
      "4/4 [==============================] - 0s 3ms/step - loss: 0.0013 - accuracy: 1.0000\n",
      "Epoch 190/300\n",
      "4/4 [==============================] - 0s 3ms/step - loss: 0.0029 - accuracy: 1.0000\n",
      "Epoch 191/300\n",
      "4/4 [==============================] - 0s 4ms/step - loss: 0.0046 - accuracy: 1.0000\n",
      "Epoch 192/300\n",
      "4/4 [==============================] - 0s 4ms/step - loss: 0.0453 - accuracy: 1.0000\n",
      "Epoch 193/300\n",
      "4/4 [==============================] - 0s 5ms/step - loss: 0.0840 - accuracy: 0.9412\n",
      "Epoch 194/300\n",
      "4/4 [==============================] - 0s 4ms/step - loss: 7.9383e-04 - accuracy: 1.0000\n",
      "Epoch 195/300\n",
      "4/4 [==============================] - 0s 5ms/step - loss: 0.0061 - accuracy: 1.0000\n",
      "Epoch 196/300\n",
      "4/4 [==============================] - 0s 4ms/step - loss: 5.7908e-04 - accuracy: 1.0000\n",
      "Epoch 197/300\n",
      "4/4 [==============================] - 0s 4ms/step - loss: 0.0077 - accuracy: 1.0000\n",
      "Epoch 198/300\n",
      "4/4 [==============================] - 0s 3ms/step - loss: 0.0724 - accuracy: 0.9412\n",
      "Epoch 199/300\n",
      "4/4 [==============================] - 0s 4ms/step - loss: 0.0029 - accuracy: 1.0000\n",
      "Epoch 200/300\n",
      "4/4 [==============================] - 0s 4ms/step - loss: 0.0083 - accuracy: 1.0000\n",
      "Epoch 201/300\n",
      "4/4 [==============================] - 0s 4ms/step - loss: 0.0089 - accuracy: 1.0000\n",
      "Epoch 202/300\n",
      "4/4 [==============================] - 0s 4ms/step - loss: 0.0470 - accuracy: 0.9412\n",
      "Epoch 203/300\n",
      "4/4 [==============================] - 0s 5ms/step - loss: 0.0151 - accuracy: 1.0000\n",
      "Epoch 204/300\n",
      "4/4 [==============================] - 0s 3ms/step - loss: 0.0022 - accuracy: 1.0000\n",
      "Epoch 205/300\n",
      "4/4 [==============================] - 0s 4ms/step - loss: 0.0057 - accuracy: 1.0000\n",
      "Epoch 206/300\n",
      "4/4 [==============================] - 0s 2ms/step - loss: 0.0291 - accuracy: 1.0000\n",
      "Epoch 207/300\n",
      "4/4 [==============================] - 0s 5ms/step - loss: 0.0176 - accuracy: 1.0000\n",
      "Epoch 208/300\n",
      "4/4 [==============================] - 0s 4ms/step - loss: 0.0030 - accuracy: 1.0000\n",
      "Epoch 209/300\n",
      "4/4 [==============================] - 0s 4ms/step - loss: 0.0032 - accuracy: 1.0000\n",
      "Epoch 210/300\n",
      "4/4 [==============================] - 0s 5ms/step - loss: 0.0172 - accuracy: 1.0000\n",
      "Epoch 211/300\n",
      "4/4 [==============================] - 0s 4ms/step - loss: 0.0272 - accuracy: 1.0000\n",
      "Epoch 212/300\n",
      "4/4 [==============================] - 0s 5ms/step - loss: 0.0110 - accuracy: 1.0000\n",
      "Epoch 213/300\n",
      "4/4 [==============================] - 0s 3ms/step - loss: 0.0194 - accuracy: 1.0000\n",
      "Epoch 214/300\n",
      "4/4 [==============================] - 0s 5ms/step - loss: 0.0012 - accuracy: 1.0000\n",
      "Epoch 215/300\n",
      "4/4 [==============================] - 0s 2ms/step - loss: 1.4787e-04 - accuracy: 1.0000\n",
      "Epoch 216/300\n",
      "4/4 [==============================] - 0s 5ms/step - loss: 0.0207 - accuracy: 1.0000\n",
      "Epoch 217/300\n",
      "4/4 [==============================] - 0s 7ms/step - loss: 0.0019 - accuracy: 1.0000\n",
      "Epoch 218/300\n",
      "4/4 [==============================] - 0s 6ms/step - loss: 0.0036 - accuracy: 1.0000\n",
      "Epoch 219/300\n",
      "4/4 [==============================] - 0s 2ms/step - loss: 0.0026 - accuracy: 1.0000\n",
      "Epoch 220/300\n",
      "4/4 [==============================] - 0s 4ms/step - loss: 0.0014 - accuracy: 1.0000\n",
      "Epoch 221/300\n",
      "4/4 [==============================] - 0s 2ms/step - loss: 0.0052 - accuracy: 1.0000\n",
      "Epoch 222/300\n",
      "4/4 [==============================] - 0s 5ms/step - loss: 0.0089 - accuracy: 1.0000\n",
      "Epoch 223/300\n",
      "4/4 [==============================] - 0s 4ms/step - loss: 0.0093 - accuracy: 1.0000\n",
      "Epoch 224/300\n",
      "4/4 [==============================] - 0s 6ms/step - loss: 0.0066 - accuracy: 1.0000\n",
      "Epoch 225/300\n",
      "4/4 [==============================] - 0s 3ms/step - loss: 0.0058 - accuracy: 1.0000\n",
      "Epoch 226/300\n",
      "4/4 [==============================] - 0s 3ms/step - loss: 0.0059 - accuracy: 1.0000\n",
      "Epoch 227/300\n",
      "4/4 [==============================] - 0s 4ms/step - loss: 0.0018 - accuracy: 1.0000\n",
      "Epoch 228/300\n",
      "4/4 [==============================] - 0s 4ms/step - loss: 1.4506e-04 - accuracy: 1.0000\n",
      "Epoch 229/300\n",
      "4/4 [==============================] - 0s 5ms/step - loss: 0.0021 - accuracy: 1.0000\n",
      "Epoch 230/300\n",
      "4/4 [==============================] - 0s 5ms/step - loss: 0.0034 - accuracy: 1.0000\n",
      "Epoch 231/300\n",
      "4/4 [==============================] - 0s 2ms/step - loss: 0.0035 - accuracy: 1.0000\n",
      "Epoch 232/300\n",
      "4/4 [==============================] - 0s 4ms/step - loss: 0.0137 - accuracy: 1.0000\n",
      "Epoch 233/300\n",
      "4/4 [==============================] - 0s 4ms/step - loss: 0.0036 - accuracy: 1.0000\n",
      "Epoch 234/300\n",
      "4/4 [==============================] - 0s 4ms/step - loss: 0.0063 - accuracy: 1.0000\n",
      "Epoch 235/300\n",
      "4/4 [==============================] - 0s 5ms/step - loss: 0.0059 - accuracy: 1.0000\n",
      "Epoch 236/300\n",
      "4/4 [==============================] - 0s 2ms/step - loss: 0.0015 - accuracy: 1.0000\n",
      "Epoch 237/300\n",
      "4/4 [==============================] - 0s 4ms/step - loss: 8.2538e-04 - accuracy: 1.0000\n",
      "Epoch 238/300\n",
      "4/4 [==============================] - 0s 5ms/step - loss: 0.0030 - accuracy: 1.0000\n",
      "Epoch 239/300\n",
      "4/4 [==============================] - 0s 5ms/step - loss: 0.0304 - accuracy: 1.0000\n",
      "Epoch 240/300\n",
      "4/4 [==============================] - 0s 5ms/step - loss: 0.0778 - accuracy: 1.0000\n",
      "Epoch 241/300\n",
      "4/4 [==============================] - 0s 2ms/step - loss: 0.0054 - accuracy: 1.0000\n",
      "Epoch 242/300\n",
      "4/4 [==============================] - 0s 4ms/step - loss: 0.0108 - accuracy: 1.0000\n",
      "Epoch 243/300\n",
      "4/4 [==============================] - 0s 2ms/step - loss: 0.0050 - accuracy: 1.0000\n",
      "Epoch 244/300\n",
      "4/4 [==============================] - 0s 4ms/step - loss: 0.0020 - accuracy: 1.0000\n",
      "Epoch 245/300\n",
      "4/4 [==============================] - 0s 4ms/step - loss: 0.0035 - accuracy: 1.0000\n",
      "Epoch 246/300\n",
      "4/4 [==============================] - 0s 3ms/step - loss: 0.0011 - accuracy: 1.0000\n",
      "Epoch 247/300\n",
      "4/4 [==============================] - 0s 5ms/step - loss: 0.0020 - accuracy: 1.0000\n",
      "Epoch 248/300\n",
      "4/4 [==============================] - 0s 3ms/step - loss: 0.0083 - accuracy: 1.0000\n",
      "Epoch 249/300\n"
     ]
    },
    {
     "name": "stdout",
     "output_type": "stream",
     "text": [
      "4/4 [==============================] - 0s 3ms/step - loss: 0.0068 - accuracy: 1.0000\n",
      "Epoch 250/300\n",
      "4/4 [==============================] - 0s 4ms/step - loss: 8.3278e-04 - accuracy: 1.0000\n",
      "Epoch 251/300\n",
      "4/4 [==============================] - 0s 4ms/step - loss: 3.3413e-04 - accuracy: 1.0000\n",
      "Epoch 252/300\n",
      "4/4 [==============================] - 0s 3ms/step - loss: 0.0023 - accuracy: 1.0000\n",
      "Epoch 253/300\n",
      "4/4 [==============================] - 0s 4ms/step - loss: 0.0238 - accuracy: 1.0000\n",
      "Epoch 254/300\n",
      "4/4 [==============================] - 0s 4ms/step - loss: 0.0019 - accuracy: 1.0000\n",
      "Epoch 255/300\n",
      "4/4 [==============================] - 0s 3ms/step - loss: 0.0156 - accuracy: 1.0000\n",
      "Epoch 256/300\n",
      "4/4 [==============================] - 0s 3ms/step - loss: 3.4397e-04 - accuracy: 1.0000\n",
      "Epoch 257/300\n",
      "4/4 [==============================] - 0s 3ms/step - loss: 0.0020 - accuracy: 1.0000\n",
      "Epoch 258/300\n",
      "4/4 [==============================] - 0s 4ms/step - loss: 0.0045 - accuracy: 1.0000\n",
      "Epoch 259/300\n",
      "4/4 [==============================] - 0s 5ms/step - loss: 9.0981e-04 - accuracy: 1.0000\n",
      "Epoch 260/300\n",
      "4/4 [==============================] - 0s 3ms/step - loss: 0.0016 - accuracy: 1.0000\n",
      "Epoch 261/300\n",
      "4/4 [==============================] - 0s 4ms/step - loss: 0.0037 - accuracy: 1.0000\n",
      "Epoch 262/300\n",
      "4/4 [==============================] - 0s 4ms/step - loss: 0.0076 - accuracy: 1.0000\n",
      "Epoch 263/300\n",
      "4/4 [==============================] - 0s 4ms/step - loss: 0.0334 - accuracy: 1.0000\n",
      "Epoch 264/300\n",
      "4/4 [==============================] - 0s 5ms/step - loss: 9.7184e-04 - accuracy: 1.0000\n",
      "Epoch 265/300\n",
      "4/4 [==============================] - 0s 5ms/step - loss: 0.0023 - accuracy: 1.0000\n",
      "Epoch 266/300\n",
      "4/4 [==============================] - 0s 4ms/step - loss: 0.0048 - accuracy: 1.0000\n",
      "Epoch 267/300\n",
      "4/4 [==============================] - 0s 5ms/step - loss: 0.0069 - accuracy: 1.0000\n",
      "Epoch 268/300\n",
      "4/4 [==============================] - 0s 4ms/step - loss: 0.0042 - accuracy: 1.0000\n",
      "Epoch 269/300\n",
      "4/4 [==============================] - 0s 4ms/step - loss: 0.0016 - accuracy: 1.0000\n",
      "Epoch 270/300\n",
      "4/4 [==============================] - 0s 4ms/step - loss: 0.0015 - accuracy: 1.0000\n",
      "Epoch 271/300\n",
      "4/4 [==============================] - 0s 4ms/step - loss: 0.0023 - accuracy: 1.0000\n",
      "Epoch 272/300\n",
      "4/4 [==============================] - 0s 5ms/step - loss: 0.0069 - accuracy: 1.0000\n",
      "Epoch 273/300\n",
      "4/4 [==============================] - 0s 3ms/step - loss: 0.0037 - accuracy: 1.0000\n",
      "Epoch 274/300\n",
      "4/4 [==============================] - 0s 4ms/step - loss: 0.0048 - accuracy: 1.0000\n",
      "Epoch 275/300\n",
      "4/4 [==============================] - 0s 4ms/step - loss: 0.0127 - accuracy: 1.0000\n",
      "Epoch 276/300\n",
      "4/4 [==============================] - 0s 4ms/step - loss: 2.2644e-04 - accuracy: 1.0000\n",
      "Epoch 277/300\n",
      "4/4 [==============================] - 0s 6ms/step - loss: 8.0451e-04 - accuracy: 1.0000\n",
      "Epoch 278/300\n",
      "4/4 [==============================] - 0s 3ms/step - loss: 0.0012 - accuracy: 1.0000\n",
      "Epoch 279/300\n",
      "4/4 [==============================] - 0s 3ms/step - loss: 0.0232 - accuracy: 1.0000\n",
      "Epoch 280/300\n",
      "4/4 [==============================] - 0s 3ms/step - loss: 0.0027 - accuracy: 1.0000\n",
      "Epoch 281/300\n",
      "4/4 [==============================] - 0s 2ms/step - loss: 3.9280e-04 - accuracy: 1.0000\n",
      "Epoch 282/300\n",
      "4/4 [==============================] - 0s 3ms/step - loss: 0.0030 - accuracy: 1.0000\n",
      "Epoch 283/300\n",
      "4/4 [==============================] - 0s 4ms/step - loss: 6.0306e-04 - accuracy: 1.0000\n",
      "Epoch 284/300\n",
      "4/4 [==============================] - 0s 4ms/step - loss: 0.0013 - accuracy: 1.0000\n",
      "Epoch 285/300\n",
      "4/4 [==============================] - 0s 4ms/step - loss: 0.0064 - accuracy: 1.0000\n",
      "Epoch 286/300\n",
      "4/4 [==============================] - 0s 2ms/step - loss: 0.0017 - accuracy: 1.0000\n",
      "Epoch 287/300\n",
      "4/4 [==============================] - 0s 4ms/step - loss: 0.0012 - accuracy: 1.0000\n",
      "Epoch 288/300\n",
      "4/4 [==============================] - 0s 2ms/step - loss: 0.0011 - accuracy: 1.0000\n",
      "Epoch 289/300\n",
      "4/4 [==============================] - 0s 2ms/step - loss: 0.0018 - accuracy: 1.0000\n",
      "Epoch 290/300\n",
      "4/4 [==============================] - 0s 2ms/step - loss: 9.6244e-04 - accuracy: 1.0000\n",
      "Epoch 291/300\n",
      "4/4 [==============================] - 0s 4ms/step - loss: 0.0026 - accuracy: 1.0000\n",
      "Epoch 292/300\n",
      "4/4 [==============================] - 0s 3ms/step - loss: 0.0121 - accuracy: 1.0000\n",
      "Epoch 293/300\n",
      "4/4 [==============================] - 0s 2ms/step - loss: 0.0116 - accuracy: 1.0000\n",
      "Epoch 294/300\n",
      "4/4 [==============================] - 0s 4ms/step - loss: 0.0160 - accuracy: 1.0000\n",
      "Epoch 295/300\n",
      "4/4 [==============================] - 0s 2ms/step - loss: 8.1601e-04 - accuracy: 1.0000\n",
      "Epoch 296/300\n",
      "4/4 [==============================] - 0s 4ms/step - loss: 0.0030 - accuracy: 1.0000\n",
      "Epoch 297/300\n",
      "4/4 [==============================] - 0s 4ms/step - loss: 0.0032 - accuracy: 1.0000\n",
      "Epoch 298/300\n",
      "4/4 [==============================] - 0s 4ms/step - loss: 0.0064 - accuracy: 1.0000\n",
      "Epoch 299/300\n",
      "4/4 [==============================] - 0s 4ms/step - loss: 0.0015 - accuracy: 1.0000\n",
      "Epoch 300/300\n",
      "4/4 [==============================] - 0s 7ms/step - loss: 0.0050 - accuracy: 1.0000\n",
      "model created\n"
     ]
    }
   ],
   "source": [
    "#fitting and saving the model\n",
    "hist = model.fit(np.array(train_x), np.array(train_y), epochs=300, batch_size=5, verbose=1)\n",
    "model.save('chatbot_model.h5', hist)\n",
    "\n",
    "print(\"model created\")"
   ]
  }
 ],
 "metadata": {
  "kernelspec": {
   "display_name": "Chatbot virt_env",
   "language": "python",
   "name": "virtual_chatbot"
  },
  "language_info": {
   "codemirror_mode": {
    "name": "ipython",
    "version": 3
   },
   "file_extension": ".py",
   "mimetype": "text/x-python",
   "name": "python",
   "nbconvert_exporter": "python",
   "pygments_lexer": "ipython3",
   "version": "3.9.12"
  }
 },
 "nbformat": 4,
 "nbformat_minor": 5
}
